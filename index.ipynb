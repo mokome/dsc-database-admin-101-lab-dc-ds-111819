{
 "cells": [
  {
   "cell_type": "markdown",
   "metadata": {},
   "source": [
    "# Database Admin 101 - Lab\n",
    "\n",
    "## Introduction \n",
    "\n",
    "In this lab, you'll go through the process of designing and creating a database. From there, you'll begin to populate this table with mock data provided to you.\n",
    "\n",
    "## Objectives\n",
    "\n",
    "You will be able to:\n",
    "\n",
    "* Use knowledge of the structure of databases to create a database and populate it"
   ]
  },
  {
   "cell_type": "markdown",
   "metadata": {},
   "source": [
    "## The Scenario\n",
    "\n",
    "You are looking to design a database for a school that will house various information from student grades to contact information, class roster lists and attendance. First, think of how you would design such a database. What tables would you include? What columns would each table have? What would be the primary means to join said tables?"
   ]
  },
  {
   "cell_type": "markdown",
   "metadata": {},
   "source": [
    "## Creating the Database\n",
    "\n",
    "Now that you've put a little thought into how you might design your database, it's time to go ahead and create it! Start by import the necessary packages. Then, create a database called **school.sqlite**."
   ]
  },
  {
   "cell_type": "code",
   "execution_count": 1,
   "metadata": {},
   "outputs": [],
   "source": [
    "import sqlite3 "
   ]
  },
  {
   "cell_type": "code",
   "execution_count": 2,
   "metadata": {},
   "outputs": [
    {
     "name": "stdout",
     "output_type": "stream",
     "text": [
      "total 104\r\n",
      "drwxr-xr-x  12 DAILYSPARK  staff   384B Dec  6 12:19 \u001b[34m.\u001b[m\u001b[m/\r\n",
      "-rw-r--r--   1 DAILYSPARK  staff   7.9K Dec  6 12:19 index.ipynb\r\n",
      "-rw-r--r--   1 DAILYSPARK  staff    20K Dec  6 12:18 school.sqlite\r\n",
      "drwxr-xr-x   3 DAILYSPARK  staff    96B Dec  6 12:10 \u001b[34m.ipynb_checkpoints\u001b[m\u001b[m/\r\n",
      "drwxr-xr-x  13 DAILYSPARK  staff   416B Dec  5 01:50 \u001b[34m.git\u001b[m\u001b[m/\r\n",
      "-rw-r--r--   1 DAILYSPARK  staff   1.2K Dec  5 01:50 contact_list.pickle\r\n",
      "-rw-r--r--   1 DAILYSPARK  staff   3.6K Dec  5 01:50 README.md\r\n",
      "-rw-r--r--   1 DAILYSPARK  staff   1.3K Dec  5 01:50 LICENSE.md\r\n",
      "-rw-r--r--   1 DAILYSPARK  staff   1.8K Dec  5 01:50 CONTRIBUTING.md\r\n",
      "-rw-r--r--   1 DAILYSPARK  staff    86B Dec  5 01:50 .learn\r\n",
      "-rw-r--r--   1 DAILYSPARK  staff    64B Dec  5 01:50 .gitignore\r\n",
      "drwxr-xr-x  10 DAILYSPARK  staff   320B Dec  5 01:50 \u001b[34m..\u001b[m\u001b[m/\r\n"
     ]
    }
   ],
   "source": [
    "ls -lath"
   ]
  },
  {
   "cell_type": "code",
   "execution_count": 3,
   "metadata": {},
   "outputs": [],
   "source": [
    "conn = sqlite3.connect('school.sqlite')\n",
    "cur = conn.cursor()"
   ]
  },
  {
   "cell_type": "markdown",
   "metadata": {},
   "source": [
    "## Create a Table for Contact Information\n",
    "\n",
    "Create a table called contactInfo to house contact information for both students and staff. Be sure to include columns for first name, last name, role (student/staff), telephone number, street, city, state, and zipcode. Be sure to also create a primary key for the table. "
   ]
  },
  {
   "cell_type": "code",
   "execution_count": 54,
   "metadata": {},
   "outputs": [
    {
     "ename": "OperationalError",
     "evalue": "table contactInfo2 already exists",
     "output_type": "error",
     "traceback": [
      "\u001b[0;31m---------------------------------------------------------------------------\u001b[0m",
      "\u001b[0;31mOperationalError\u001b[0m                          Traceback (most recent call last)",
      "\u001b[0;32m<ipython-input-54-e064ad1d325b>\u001b[0m in \u001b[0;36m<module>\u001b[0;34m\u001b[0m\n\u001b[1;32m      9\u001b[0m                                 \u001b[0mstate\u001b[0m \u001b[0mTEXT\u001b[0m\u001b[0;34m,\u001b[0m\u001b[0;34m\u001b[0m\u001b[0;34m\u001b[0m\u001b[0m\n\u001b[1;32m     10\u001b[0m                                 zip TEXT );\n\u001b[0;32m---> 11\u001b[0;31m             \"\"\")\n\u001b[0m",
      "\u001b[0;31mOperationalError\u001b[0m: table contactInfo2 already exists"
     ]
    }
   ],
   "source": [
    "cur.execute(\"\"\"CREATE TABLE contactInfo2 (\n",
    "                                id INTEGER PRIMARY KEY,\n",
    "                                fname TEXT,\n",
    "                                lname TEXT,\n",
    "                                role TEXT,\n",
    "                                phone TEXT,\n",
    "                                street TEXT,\n",
    "                                city TEXT,\n",
    "                                state TEXT,\n",
    "                                zip TEXT );\n",
    "            \"\"\")"
   ]
  },
  {
   "cell_type": "code",
   "execution_count": null,
   "metadata": {},
   "outputs": [],
   "source": []
  },
  {
   "cell_type": "markdown",
   "metadata": {},
   "source": [
    "## Populate the Table\n",
    "\n",
    "Below, code is provided for you in order to load a list of dictionaries. Briefly examine the list. Each dictionary in the list will serve as an entry for your contact info table. Once you've briefly investigated the structure of this data, write a for loop to iterate through the list and create an entry in your table for each person's contact info."
   ]
  },
  {
   "cell_type": "code",
   "execution_count": 11,
   "metadata": {},
   "outputs": [],
   "source": [
    "# Code to load the list of dictionaries; just run this cell\n",
    "import pickle\n",
    "\n",
    "with open('contact_list.pickle', 'rb') as f:\n",
    "    contacts = pickle.load(f)"
   ]
  },
  {
   "cell_type": "code",
   "execution_count": 17,
   "metadata": {},
   "outputs": [
    {
     "data": {
      "text/plain": [
       "[{'firstName': 'Christine',\n",
       "  'lastName': 'Holden',\n",
       "  'role': 'staff',\n",
       "  'telephone ': 2035687697,\n",
       "  'street': '1672 Whitman Court',\n",
       "  'city': 'Stamford',\n",
       "  'state': 'CT',\n",
       "  'zipcode ': '06995'},\n",
       " {'firstName': 'Christopher',\n",
       "  'lastName': 'Warren',\n",
       "  'role': 'student',\n",
       "  'telephone ': 2175150957,\n",
       "  'street': '1935 University Hill Road',\n",
       "  'city': 'Champaign',\n",
       "  'state': 'IL',\n",
       "  'zipcode ': '61938'},\n",
       " {'firstName': 'Linda',\n",
       "  'lastName': 'Jacobson',\n",
       "  'role': 'staff',\n",
       "  'telephone ': 4049446441,\n",
       "  'street': '479 Musgrave Street',\n",
       "  'city': 'Atlanta',\n",
       "  'state': 'GA',\n",
       "  'zipcode ': '30303'},\n",
       " {'firstName': 'Andrew',\n",
       "  'lastName': 'Stepp',\n",
       "  'role': 'student',\n",
       "  'telephone ': 7866419252,\n",
       "  'street': '2981 Lamberts Branch Road',\n",
       "  'city': 'Hialeah',\n",
       "  'state': 'Fl',\n",
       "  'zipcode ': '33012'},\n",
       " {'firstName': 'Jane',\n",
       "  'lastName': 'Evans',\n",
       "  'role': 'student',\n",
       "  'telephone ': 3259909290,\n",
       "  'street': '1461 Briarhill Lane',\n",
       "  'city': 'Abilene',\n",
       "  'state': 'TX',\n",
       "  'zipcode ': '79602'},\n",
       " {'firstName': 'Jane',\n",
       "  'lastName': 'Evans',\n",
       "  'role': 'student',\n",
       "  'telephone ': 3259909290,\n",
       "  'street': '1461 Briarhill Lane',\n",
       "  'city': 'Abilene',\n",
       "  'state': 'TX',\n",
       "  'zipcode ': '79602'},\n",
       " {'firstName': 'Mary',\n",
       "  'lastName': 'Raines',\n",
       "  'role': 'student',\n",
       "  'telephone ': 9075772295,\n",
       "  'street': '3975 Jerry Toth Drive',\n",
       "  'city': 'Ninilchik',\n",
       "  'state': 'AK',\n",
       "  'zipcode ': '99639'},\n",
       " {'firstName': 'Ed',\n",
       "  'lastName': 'Lyman',\n",
       "  'role': 'student',\n",
       "  'telephone ': 5179695576,\n",
       "  'street': '3478 Be Sreet',\n",
       "  'city': 'Lansing',\n",
       "  'state': 'MI',\n",
       "  'zipcode ': '48933'}]"
      ]
     },
     "execution_count": 17,
     "metadata": {},
     "output_type": "execute_result"
    }
   ],
   "source": [
    "contacts"
   ]
  },
  {
   "cell_type": "code",
   "execution_count": 52,
   "metadata": {},
   "outputs": [
    {
     "data": {
      "text/plain": [
       "'INSERT INTO contactInfo2 (id, fname, lname, role, phone, street, city, state, zip)\\n           VALUES (0, \"Christine\", \"Holden\", \"staff\", \"2035687697\", \"1672 Whitman Court\", \"Stamford\", \"CT\", \"06995\");'"
      ]
     },
     "metadata": {},
     "output_type": "display_data"
    },
    {
     "data": {
      "text/plain": [
       "'INSERT INTO contactInfo2 (id, fname, lname, role, phone, street, city, state, zip)\\n           VALUES (1, \"Christopher\", \"Warren\", \"student\", \"2175150957\", \"1935 University Hill Road\", \"Champaign\", \"IL\", \"61938\");'"
      ]
     },
     "metadata": {},
     "output_type": "display_data"
    },
    {
     "data": {
      "text/plain": [
       "'INSERT INTO contactInfo2 (id, fname, lname, role, phone, street, city, state, zip)\\n           VALUES (2, \"Linda\", \"Jacobson\", \"staff\", \"4049446441\", \"479 Musgrave Street\", \"Atlanta\", \"GA\", \"30303\");'"
      ]
     },
     "metadata": {},
     "output_type": "display_data"
    },
    {
     "data": {
      "text/plain": [
       "'INSERT INTO contactInfo2 (id, fname, lname, role, phone, street, city, state, zip)\\n           VALUES (3, \"Andrew\", \"Stepp\", \"student\", \"7866419252\", \"2981 Lamberts Branch Road\", \"Hialeah\", \"Fl\", \"33012\");'"
      ]
     },
     "metadata": {},
     "output_type": "display_data"
    },
    {
     "data": {
      "text/plain": [
       "'INSERT INTO contactInfo2 (id, fname, lname, role, phone, street, city, state, zip)\\n           VALUES (4, \"Jane\", \"Evans\", \"student\", \"3259909290\", \"1461 Briarhill Lane\", \"Abilene\", \"TX\", \"79602\");'"
      ]
     },
     "metadata": {},
     "output_type": "display_data"
    },
    {
     "data": {
      "text/plain": [
       "'INSERT INTO contactInfo2 (id, fname, lname, role, phone, street, city, state, zip)\\n           VALUES (5, \"Jane\", \"Evans\", \"student\", \"3259909290\", \"1461 Briarhill Lane\", \"Abilene\", \"TX\", \"79602\");'"
      ]
     },
     "metadata": {},
     "output_type": "display_data"
    },
    {
     "data": {
      "text/plain": [
       "'INSERT INTO contactInfo2 (id, fname, lname, role, phone, street, city, state, zip)\\n           VALUES (6, \"Mary\", \"Raines\", \"student\", \"9075772295\", \"3975 Jerry Toth Drive\", \"Ninilchik\", \"AK\", \"99639\");'"
      ]
     },
     "metadata": {},
     "output_type": "display_data"
    },
    {
     "data": {
      "text/plain": [
       "'INSERT INTO contactInfo2 (id, fname, lname, role, phone, street, city, state, zip)\\n           VALUES (7, \"Ed\", \"Lyman\", \"student\", \"5179695576\", \"3478 Be Sreet\", \"Lansing\", \"MI\", \"48933\");'"
      ]
     },
     "metadata": {},
     "output_type": "display_data"
    }
   ],
   "source": [
    "# Your code to iterate over the contact list and populate the contactInfo table here\n",
    "i = 0\n",
    "for c in contacts:\n",
    "    q = ('''INSERT INTO contactInfo2 (id, fname, lname, role, phone, street, city, state, zip)\n",
    "           VALUES (''' + str(i) + ', \"' + c['firstName'] + '\", \"' + c['lastName'] + '\", \"' + c['role'] + '\", \"' + \n",
    "           str(c['telephone ']) + '\", \"' + c['street'] + '\", \"' + c['city'] + '\", \"' + c['state'] + '\", \"' + \n",
    "           str (c['zipcode ']) + '\");')\n",
    "    display(q)\n",
    "    cur.execute(q).fetchall()\n",
    "    i += 1\n",
    "    \n"
   ]
  },
  {
   "cell_type": "markdown",
   "metadata": {},
   "source": [
    "**Query the Table to Ensure it is populated**"
   ]
  },
  {
   "cell_type": "code",
   "execution_count": 55,
   "metadata": {},
   "outputs": [
    {
     "data": {
      "text/plain": [
       "[(0,\n",
       "  'Christine',\n",
       "  'Holden',\n",
       "  'staff',\n",
       "  '2035687697',\n",
       "  '1672 Whitman Court',\n",
       "  'Stamford',\n",
       "  'CT',\n",
       "  '06995'),\n",
       " (1,\n",
       "  'Christopher',\n",
       "  'Warren',\n",
       "  'student',\n",
       "  '2175150957',\n",
       "  '1935 University Hill Road',\n",
       "  'Champaign',\n",
       "  'IL',\n",
       "  '61938'),\n",
       " (2,\n",
       "  'Linda',\n",
       "  'Jacobson',\n",
       "  'staff',\n",
       "  '4049446441',\n",
       "  '479 Musgrave Street',\n",
       "  'Atlanta',\n",
       "  'GA',\n",
       "  '30303'),\n",
       " (3,\n",
       "  'Andrew',\n",
       "  'Stepp',\n",
       "  'student',\n",
       "  '7866419252',\n",
       "  '2981 Lamberts Branch Road',\n",
       "  'Hialeah',\n",
       "  'Fl',\n",
       "  '33012'),\n",
       " (4,\n",
       "  'Jane',\n",
       "  'Evans',\n",
       "  'student',\n",
       "  '3259909290',\n",
       "  '1461 Briarhill Lane',\n",
       "  'Abilene',\n",
       "  'TX',\n",
       "  '79602'),\n",
       " (5,\n",
       "  'Jane',\n",
       "  'Evans',\n",
       "  'student',\n",
       "  '3259909290',\n",
       "  '1461 Briarhill Lane',\n",
       "  'Abilene',\n",
       "  'TX',\n",
       "  '79602'),\n",
       " (6,\n",
       "  'Mary',\n",
       "  'Raines',\n",
       "  'student',\n",
       "  '9075772295',\n",
       "  '3975 Jerry Toth Drive',\n",
       "  'Ninilchik',\n",
       "  'AK',\n",
       "  '99639'),\n",
       " (7,\n",
       "  'Ed',\n",
       "  'Lyman',\n",
       "  'student',\n",
       "  '5179695576',\n",
       "  '3478 Be Sreet',\n",
       "  'Lansing',\n",
       "  'MI',\n",
       "  '48933')]"
      ]
     },
     "execution_count": 55,
     "metadata": {},
     "output_type": "execute_result"
    }
   ],
   "source": [
    "cur.execute(\"\"\"SELECT * from contactInfo2;\n",
    "            \"\"\").fetchall()"
   ]
  },
  {
   "cell_type": "markdown",
   "metadata": {},
   "source": [
    "## Commit Your Changes to the Database\n",
    "\n",
    "Persist your changes by committing them to the database."
   ]
  },
  {
   "cell_type": "code",
   "execution_count": 56,
   "metadata": {},
   "outputs": [],
   "source": [
    "conn.commit()"
   ]
  },
  {
   "cell_type": "markdown",
   "metadata": {},
   "source": [
    "## Create a Table for Student Grades\n",
    "\n",
    "Create a new table in the database called \"grades\". In the table, include the following fields: userId, courseId, grade.\n",
    "\n",
    "** This problem is a bit more tricky and will require a dual key. (A nuance you have yet to see.)\n",
    "Here's how to do that:\n",
    "\n",
    "```SQL\n",
    "CREATE TABLE table_name(\n",
    "   column_1 INTEGER NOT NULL,\n",
    "   column_2 INTEGER NOT NULL,\n",
    "   ...\n",
    "   PRIMARY KEY(column_1,column_2,...)\n",
    ");\n",
    "```"
   ]
  },
  {
   "cell_type": "code",
   "execution_count": 71,
   "metadata": {},
   "outputs": [
    {
     "data": {
      "text/plain": [
       "[]"
      ]
     },
     "execution_count": 71,
     "metadata": {},
     "output_type": "execute_result"
    }
   ],
   "source": [
    "q = '''CREATE TABLE grades4(\n",
    "   userId INTEGER NOT NULL,\n",
    "   courseId INTEGER NOT NULL,\n",
    "   grade INTEGER,\n",
    "   PRIMARY KEY(userId,courseId)\n",
    ");\n",
    "'''\n",
    "\n",
    "cur.execute(q).fetchall()"
   ]
  },
  {
   "cell_type": "markdown",
   "metadata": {},
   "source": [
    "## Remove Duplicate Entries\n",
    "\n",
    "An analyst just realized that there is a duplicate entry in the contactInfo table! Find and remove it."
   ]
  },
  {
   "cell_type": "code",
   "execution_count": 106,
   "metadata": {},
   "outputs": [
    {
     "data": {
      "text/plain": [
       "[(4, 'Jane', 'Evans', 2)]"
      ]
     },
     "execution_count": 106,
     "metadata": {},
     "output_type": "execute_result"
    }
   ],
   "source": [
    "q = '''SELECT id, fname, lname, COUNT(fname) FROM contactInfo2 GROUP BY fname, lname HAVING COUNT(fname) > 1'''\n",
    "\n",
    "cur.execute(q).fetchall()"
   ]
  },
  {
   "cell_type": "code",
   "execution_count": 107,
   "metadata": {},
   "outputs": [
    {
     "data": {
      "text/plain": [
       "<sqlite3.Cursor at 0x10af9a8f0>"
      ]
     },
     "execution_count": 107,
     "metadata": {},
     "output_type": "execute_result"
    }
   ],
   "source": [
    "cur.execute('''DELETE FROM contactInfo2 WHERE id = 4;''')"
   ]
  },
  {
   "cell_type": "code",
   "execution_count": 109,
   "metadata": {},
   "outputs": [
    {
     "data": {
      "text/plain": [
       "[(0, 'Christine', 'Holden'),\n",
       " (1, 'Christopher', 'Warren'),\n",
       " (2, 'Linda', 'Jacobson'),\n",
       " (3, 'Andrew', 'Stepp'),\n",
       " (5, 'Jane', 'Evans'),\n",
       " (6, 'Mary', 'Raines'),\n",
       " (7, 'Ed', 'Lyman')]"
      ]
     },
     "execution_count": 109,
     "metadata": {},
     "output_type": "execute_result"
    }
   ],
   "source": [
    "cur.execute(\"\"\"SELECT id, fname, lname from contactInfo2;\n",
    "            \"\"\").fetchall()"
   ]
  },
  {
   "cell_type": "markdown",
   "metadata": {},
   "source": [
    "## Updating an Address\n",
    "\n",
    "Ed Lyman just moved to `2910 Simpson Avenue York, PA 17403`. Update his address accordingly."
   ]
  },
  {
   "cell_type": "code",
   "execution_count": 95,
   "metadata": {},
   "outputs": [
    {
     "data": {
      "text/plain": [
       "[]"
      ]
     },
     "execution_count": 95,
     "metadata": {},
     "output_type": "execute_result"
    }
   ],
   "source": [
    "cur.execute('''UPDATE contactInfo2 \n",
    "                  SET street = \"2910 Simpson Avenue\",\n",
    "                  city = \"York\",\n",
    "                  state = \"PA\",\n",
    "                  zip = \"17403\"\n",
    "                  WHERE id = 7;\n",
    "            ''').fetchall()"
   ]
  },
  {
   "cell_type": "code",
   "execution_count": 96,
   "metadata": {},
   "outputs": [
    {
     "data": {
      "text/plain": [
       "[(7,\n",
       "  'Ed',\n",
       "  'Lyman',\n",
       "  'student',\n",
       "  '5179695576',\n",
       "  '2910 Simpson Avenue',\n",
       "  'York',\n",
       "  'PA',\n",
       "  '17403')]"
      ]
     },
     "execution_count": 96,
     "metadata": {},
     "output_type": "execute_result"
    }
   ],
   "source": [
    "cur.execute(\"\"\"SELECT * from contactInfo2 WHERE id=7;\n",
    "            \"\"\").fetchall()"
   ]
  },
  {
   "cell_type": "markdown",
   "metadata": {},
   "source": [
    "## Commit Your Changes to the Database\n",
    "\n",
    "Once again, persist your changes by committing them to the database."
   ]
  },
  {
   "cell_type": "code",
   "execution_count": 110,
   "metadata": {},
   "outputs": [],
   "source": [
    "conn.commit()"
   ]
  },
  {
   "cell_type": "markdown",
   "metadata": {},
   "source": [
    "## Summary\n",
    "\n",
    "While there's certainly more to do with setting up and managing this database, you got a taste for creating, populating, and maintaining databases! Feel free to continue fleshing out this exercise for more practice. "
   ]
  }
 ],
 "metadata": {
  "kernelspec": {
   "display_name": "Python 3",
   "language": "python",
   "name": "python3"
  },
  "language_info": {
   "codemirror_mode": {
    "name": "ipython",
    "version": 3
   },
   "file_extension": ".py",
   "mimetype": "text/x-python",
   "name": "python",
   "nbconvert_exporter": "python",
   "pygments_lexer": "ipython3",
   "version": "3.6.9"
  },
  "toc": {
   "base_numbering": 1,
   "nav_menu": {},
   "number_sections": true,
   "sideBar": true,
   "skip_h1_title": false,
   "title_cell": "Table of Contents",
   "title_sidebar": "Contents",
   "toc_cell": false,
   "toc_position": {},
   "toc_section_display": true,
   "toc_window_display": false
  }
 },
 "nbformat": 4,
 "nbformat_minor": 2
}
